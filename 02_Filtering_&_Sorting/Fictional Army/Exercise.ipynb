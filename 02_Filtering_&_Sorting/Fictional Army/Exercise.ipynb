{
  "nbformat": 4,
  "nbformat_minor": 0,
  "metadata": {
    "kernelspec": {
      "display_name": "Python 3",
      "language": "python",
      "name": "python3"
    },
    "language_info": {
      "codemirror_mode": {
        "name": "ipython",
        "version": 3
      },
      "file_extension": ".py",
      "mimetype": "text/x-python",
      "name": "python",
      "nbconvert_exporter": "python",
      "pygments_lexer": "ipython3",
      "version": "3.7.3"
    },
    "colab": {
      "name": "Exercise.ipynb",
      "provenance": [],
      "include_colab_link": true
    }
  },
  "cells": [
    {
      "cell_type": "markdown",
      "metadata": {
        "id": "view-in-github",
        "colab_type": "text"
      },
      "source": [
        "<a href=\"https://colab.research.google.com/github/chopstickexe/pandas_exercises/blob/master/02_Filtering_%26_Sorting/Fictional%20Army/Exercise.ipynb\" target=\"_parent\"><img src=\"https://colab.research.google.com/assets/colab-badge.svg\" alt=\"Open In Colab\"/></a>"
      ]
    },
    {
      "cell_type": "markdown",
      "metadata": {
        "id": "P0S7sUrQUMR4"
      },
      "source": [
        "# Fictional Army - Filtering and Sorting"
      ]
    },
    {
      "cell_type": "markdown",
      "metadata": {
        "id": "iFcn5iFpUMR_"
      },
      "source": [
        "### Introduction:\n",
        "\n",
        "This exercise was inspired by this [page](http://chrisalbon.com/python/)\n",
        "\n",
        "Special thanks to: https://github.com/chrisalbon for sharing the dataset and materials.\n",
        "\n",
        "### Step 1. Import the necessary libraries"
      ]
    },
    {
      "cell_type": "code",
      "metadata": {
        "colab": {
          "base_uri": "https://localhost:8080/"
        },
        "id": "Ye8W9QM-URgl",
        "outputId": "6728114c-2f7a-4d67-ee44-5db1a4b67e1f"
      },
      "source": [
        "! python -V"
      ],
      "execution_count": 1,
      "outputs": [
        {
          "output_type": "stream",
          "text": [
            "Python 3.6.9\n"
          ],
          "name": "stdout"
        }
      ]
    },
    {
      "cell_type": "code",
      "metadata": {
        "colab": {
          "base_uri": "https://localhost:8080/"
        },
        "id": "Ky9ZjcS9UUVG",
        "outputId": "19016708-c5db-421d-9315-8339c8c1afb7"
      },
      "source": [
        "! pip install pandas"
      ],
      "execution_count": 2,
      "outputs": [
        {
          "output_type": "stream",
          "text": [
            "Requirement already satisfied: pandas in /usr/local/lib/python3.6/dist-packages (1.1.5)\n",
            "Requirement already satisfied: numpy>=1.15.4 in /usr/local/lib/python3.6/dist-packages (from pandas) (1.19.4)\n",
            "Requirement already satisfied: pytz>=2017.2 in /usr/local/lib/python3.6/dist-packages (from pandas) (2018.9)\n",
            "Requirement already satisfied: python-dateutil>=2.7.3 in /usr/local/lib/python3.6/dist-packages (from pandas) (2.8.1)\n",
            "Requirement already satisfied: six>=1.5 in /usr/local/lib/python3.6/dist-packages (from python-dateutil>=2.7.3->pandas) (1.15.0)\n"
          ],
          "name": "stdout"
        }
      ]
    },
    {
      "cell_type": "code",
      "metadata": {
        "id": "PXMfkemYUMSA"
      },
      "source": [
        "import pandas as pd"
      ],
      "execution_count": 4,
      "outputs": []
    },
    {
      "cell_type": "markdown",
      "metadata": {
        "id": "-1xB0swgUMSB"
      },
      "source": [
        "### Step 2. This is the data given as a dictionary"
      ]
    },
    {
      "cell_type": "code",
      "metadata": {
        "collapsed": true,
        "id": "raES3Yu4UMSB"
      },
      "source": [
        "# Create an example dataframe about a fictional army\n",
        "raw_data = {'regiment': ['Nighthawks', 'Nighthawks', 'Nighthawks', 'Nighthawks', 'Dragoons', 'Dragoons', 'Dragoons', 'Dragoons', 'Scouts', 'Scouts', 'Scouts', 'Scouts'],\n",
        "            'company': ['1st', '1st', '2nd', '2nd', '1st', '1st', '2nd', '2nd','1st', '1st', '2nd', '2nd'],\n",
        "            'deaths': [523, 52, 25, 616, 43, 234, 523, 62, 62, 73, 37, 35],\n",
        "            'battles': [5, 42, 2, 2, 4, 7, 8, 3, 4, 7, 8, 9],\n",
        "            'size': [1045, 957, 1099, 1400, 1592, 1006, 987, 849, 973, 1005, 1099, 1523],\n",
        "            'veterans': [1, 5, 62, 26, 73, 37, 949, 48, 48, 435, 63, 345],\n",
        "            'readiness': [1, 2, 3, 3, 2, 1, 2, 3, 2, 1, 2, 3],\n",
        "            'armored': [1, 0, 1, 1, 0, 1, 0, 1, 0, 0, 1, 1],\n",
        "            'deserters': [4, 24, 31, 2, 3, 4, 24, 31, 2, 3, 2, 3],\n",
        "            'origin': ['Arizona', 'California', 'Texas', 'Florida', 'Maine', 'Iowa', 'Alaska', 'Washington', 'Oregon', 'Wyoming', 'Louisana', 'Georgia']}"
      ],
      "execution_count": 5,
      "outputs": []
    },
    {
      "cell_type": "markdown",
      "metadata": {
        "id": "rYjF2YjIUMSC"
      },
      "source": [
        "### Step 3. Create a dataframe and assign it to a variable called army. \n",
        "\n",
        "#### Don't forget to include the columns names in the order presented in the dictionary ('regiment', 'company', 'deaths'...) so that the column index order is consistent with the solutions. If omitted, pandas will order the columns alphabetically."
      ]
    },
    {
      "cell_type": "code",
      "metadata": {
        "colab": {
          "base_uri": "https://localhost:8080/",
          "height": 202
        },
        "id": "lCm3XMeaUMSC",
        "outputId": "b3ceaf82-28e6-4d7c-d845-73898a7c213e"
      },
      "source": [
        "army = pd.DataFrame(raw_data, columns=raw_data.keys())\r\n",
        "army.head()"
      ],
      "execution_count": 6,
      "outputs": [
        {
          "output_type": "execute_result",
          "data": {
            "text/html": [
              "<div>\n",
              "<style scoped>\n",
              "    .dataframe tbody tr th:only-of-type {\n",
              "        vertical-align: middle;\n",
              "    }\n",
              "\n",
              "    .dataframe tbody tr th {\n",
              "        vertical-align: top;\n",
              "    }\n",
              "\n",
              "    .dataframe thead th {\n",
              "        text-align: right;\n",
              "    }\n",
              "</style>\n",
              "<table border=\"1\" class=\"dataframe\">\n",
              "  <thead>\n",
              "    <tr style=\"text-align: right;\">\n",
              "      <th></th>\n",
              "      <th>regiment</th>\n",
              "      <th>company</th>\n",
              "      <th>deaths</th>\n",
              "      <th>battles</th>\n",
              "      <th>size</th>\n",
              "      <th>veterans</th>\n",
              "      <th>readiness</th>\n",
              "      <th>armored</th>\n",
              "      <th>deserters</th>\n",
              "      <th>origin</th>\n",
              "    </tr>\n",
              "  </thead>\n",
              "  <tbody>\n",
              "    <tr>\n",
              "      <th>0</th>\n",
              "      <td>Nighthawks</td>\n",
              "      <td>1st</td>\n",
              "      <td>523</td>\n",
              "      <td>5</td>\n",
              "      <td>1045</td>\n",
              "      <td>1</td>\n",
              "      <td>1</td>\n",
              "      <td>1</td>\n",
              "      <td>4</td>\n",
              "      <td>Arizona</td>\n",
              "    </tr>\n",
              "    <tr>\n",
              "      <th>1</th>\n",
              "      <td>Nighthawks</td>\n",
              "      <td>1st</td>\n",
              "      <td>52</td>\n",
              "      <td>42</td>\n",
              "      <td>957</td>\n",
              "      <td>5</td>\n",
              "      <td>2</td>\n",
              "      <td>0</td>\n",
              "      <td>24</td>\n",
              "      <td>California</td>\n",
              "    </tr>\n",
              "    <tr>\n",
              "      <th>2</th>\n",
              "      <td>Nighthawks</td>\n",
              "      <td>2nd</td>\n",
              "      <td>25</td>\n",
              "      <td>2</td>\n",
              "      <td>1099</td>\n",
              "      <td>62</td>\n",
              "      <td>3</td>\n",
              "      <td>1</td>\n",
              "      <td>31</td>\n",
              "      <td>Texas</td>\n",
              "    </tr>\n",
              "    <tr>\n",
              "      <th>3</th>\n",
              "      <td>Nighthawks</td>\n",
              "      <td>2nd</td>\n",
              "      <td>616</td>\n",
              "      <td>2</td>\n",
              "      <td>1400</td>\n",
              "      <td>26</td>\n",
              "      <td>3</td>\n",
              "      <td>1</td>\n",
              "      <td>2</td>\n",
              "      <td>Florida</td>\n",
              "    </tr>\n",
              "    <tr>\n",
              "      <th>4</th>\n",
              "      <td>Dragoons</td>\n",
              "      <td>1st</td>\n",
              "      <td>43</td>\n",
              "      <td>4</td>\n",
              "      <td>1592</td>\n",
              "      <td>73</td>\n",
              "      <td>2</td>\n",
              "      <td>0</td>\n",
              "      <td>3</td>\n",
              "      <td>Maine</td>\n",
              "    </tr>\n",
              "  </tbody>\n",
              "</table>\n",
              "</div>"
            ],
            "text/plain": [
              "     regiment company  deaths  ...  armored  deserters      origin\n",
              "0  Nighthawks     1st     523  ...        1          4     Arizona\n",
              "1  Nighthawks     1st      52  ...        0         24  California\n",
              "2  Nighthawks     2nd      25  ...        1         31       Texas\n",
              "3  Nighthawks     2nd     616  ...        1          2     Florida\n",
              "4    Dragoons     1st      43  ...        0          3       Maine\n",
              "\n",
              "[5 rows x 10 columns]"
            ]
          },
          "metadata": {
            "tags": []
          },
          "execution_count": 6
        }
      ]
    },
    {
      "cell_type": "markdown",
      "metadata": {
        "id": "jyURjbccUMSC"
      },
      "source": [
        "### Step 4. Set the 'origin' colum as the index of the dataframe"
      ]
    },
    {
      "cell_type": "code",
      "metadata": {
        "id": "chaQxqehUMSD"
      },
      "source": [
        "army.set_index(\"origin\", inplace=True)"
      ],
      "execution_count": 8,
      "outputs": []
    },
    {
      "cell_type": "markdown",
      "metadata": {
        "id": "ZW6VQj4JUMSD"
      },
      "source": [
        "### Step 5. Print only the column veterans"
      ]
    },
    {
      "cell_type": "code",
      "metadata": {
        "colab": {
          "base_uri": "https://localhost:8080/"
        },
        "id": "PlK94lyhUMSD",
        "outputId": "9d57fb16-ca19-4243-b251-bcb56fc0b7c4"
      },
      "source": [
        "army[\"veterans\"]"
      ],
      "execution_count": 9,
      "outputs": [
        {
          "output_type": "execute_result",
          "data": {
            "text/plain": [
              "origin\n",
              "Arizona         1\n",
              "California      5\n",
              "Texas          62\n",
              "Florida        26\n",
              "Maine          73\n",
              "Iowa           37\n",
              "Alaska        949\n",
              "Washington     48\n",
              "Oregon         48\n",
              "Wyoming       435\n",
              "Louisana       63\n",
              "Georgia       345\n",
              "Name: veterans, dtype: int64"
            ]
          },
          "metadata": {
            "tags": []
          },
          "execution_count": 9
        }
      ]
    },
    {
      "cell_type": "markdown",
      "metadata": {
        "id": "oi-4XpmuUMSD"
      },
      "source": [
        "### Step 6. Print the columns 'veterans' and 'deaths'"
      ]
    },
    {
      "cell_type": "code",
      "metadata": {
        "colab": {
          "base_uri": "https://localhost:8080/",
          "height": 447
        },
        "id": "cqxRdBl9UMSE",
        "outputId": "02783716-8ccb-47b9-9ef7-64e6aa219562"
      },
      "source": [
        "army[[\"veterans\", \"deaths\"]]"
      ],
      "execution_count": 10,
      "outputs": [
        {
          "output_type": "execute_result",
          "data": {
            "text/html": [
              "<div>\n",
              "<style scoped>\n",
              "    .dataframe tbody tr th:only-of-type {\n",
              "        vertical-align: middle;\n",
              "    }\n",
              "\n",
              "    .dataframe tbody tr th {\n",
              "        vertical-align: top;\n",
              "    }\n",
              "\n",
              "    .dataframe thead th {\n",
              "        text-align: right;\n",
              "    }\n",
              "</style>\n",
              "<table border=\"1\" class=\"dataframe\">\n",
              "  <thead>\n",
              "    <tr style=\"text-align: right;\">\n",
              "      <th></th>\n",
              "      <th>veterans</th>\n",
              "      <th>deaths</th>\n",
              "    </tr>\n",
              "    <tr>\n",
              "      <th>origin</th>\n",
              "      <th></th>\n",
              "      <th></th>\n",
              "    </tr>\n",
              "  </thead>\n",
              "  <tbody>\n",
              "    <tr>\n",
              "      <th>Arizona</th>\n",
              "      <td>1</td>\n",
              "      <td>523</td>\n",
              "    </tr>\n",
              "    <tr>\n",
              "      <th>California</th>\n",
              "      <td>5</td>\n",
              "      <td>52</td>\n",
              "    </tr>\n",
              "    <tr>\n",
              "      <th>Texas</th>\n",
              "      <td>62</td>\n",
              "      <td>25</td>\n",
              "    </tr>\n",
              "    <tr>\n",
              "      <th>Florida</th>\n",
              "      <td>26</td>\n",
              "      <td>616</td>\n",
              "    </tr>\n",
              "    <tr>\n",
              "      <th>Maine</th>\n",
              "      <td>73</td>\n",
              "      <td>43</td>\n",
              "    </tr>\n",
              "    <tr>\n",
              "      <th>Iowa</th>\n",
              "      <td>37</td>\n",
              "      <td>234</td>\n",
              "    </tr>\n",
              "    <tr>\n",
              "      <th>Alaska</th>\n",
              "      <td>949</td>\n",
              "      <td>523</td>\n",
              "    </tr>\n",
              "    <tr>\n",
              "      <th>Washington</th>\n",
              "      <td>48</td>\n",
              "      <td>62</td>\n",
              "    </tr>\n",
              "    <tr>\n",
              "      <th>Oregon</th>\n",
              "      <td>48</td>\n",
              "      <td>62</td>\n",
              "    </tr>\n",
              "    <tr>\n",
              "      <th>Wyoming</th>\n",
              "      <td>435</td>\n",
              "      <td>73</td>\n",
              "    </tr>\n",
              "    <tr>\n",
              "      <th>Louisana</th>\n",
              "      <td>63</td>\n",
              "      <td>37</td>\n",
              "    </tr>\n",
              "    <tr>\n",
              "      <th>Georgia</th>\n",
              "      <td>345</td>\n",
              "      <td>35</td>\n",
              "    </tr>\n",
              "  </tbody>\n",
              "</table>\n",
              "</div>"
            ],
            "text/plain": [
              "            veterans  deaths\n",
              "origin                      \n",
              "Arizona            1     523\n",
              "California         5      52\n",
              "Texas             62      25\n",
              "Florida           26     616\n",
              "Maine             73      43\n",
              "Iowa              37     234\n",
              "Alaska           949     523\n",
              "Washington        48      62\n",
              "Oregon            48      62\n",
              "Wyoming          435      73\n",
              "Louisana          63      37\n",
              "Georgia          345      35"
            ]
          },
          "metadata": {
            "tags": []
          },
          "execution_count": 10
        }
      ]
    },
    {
      "cell_type": "markdown",
      "metadata": {
        "id": "_Hhjc1R2UMSE"
      },
      "source": [
        "### Step 7. Print the name of all the columns."
      ]
    },
    {
      "cell_type": "code",
      "metadata": {
        "colab": {
          "base_uri": "https://localhost:8080/"
        },
        "id": "66cqWTkmUMSE",
        "outputId": "e6200b30-2ecb-45f1-ffd7-48cda8a5ef27"
      },
      "source": [
        "army.columns"
      ],
      "execution_count": 11,
      "outputs": [
        {
          "output_type": "execute_result",
          "data": {
            "text/plain": [
              "Index(['regiment', 'company', 'deaths', 'battles', 'size', 'veterans',\n",
              "       'readiness', 'armored', 'deserters'],\n",
              "      dtype='object')"
            ]
          },
          "metadata": {
            "tags": []
          },
          "execution_count": 11
        }
      ]
    },
    {
      "cell_type": "markdown",
      "metadata": {
        "id": "dW8XF8OmUMSE"
      },
      "source": [
        "### Step 8. Select the 'deaths', 'size' and 'deserters' columns from Maine and Alaska"
      ]
    },
    {
      "cell_type": "code",
      "metadata": {
        "colab": {
          "base_uri": "https://localhost:8080/",
          "height": 141
        },
        "id": "36kd733CUMSF",
        "outputId": "20e90cc2-c54d-4d47-f81c-c21aec11f834"
      },
      "source": [
        "army.loc[[\"Maine\", \"Alaska\"], [\"deaths\", \"size\", \"deserters\"]]"
      ],
      "execution_count": 15,
      "outputs": [
        {
          "output_type": "execute_result",
          "data": {
            "text/html": [
              "<div>\n",
              "<style scoped>\n",
              "    .dataframe tbody tr th:only-of-type {\n",
              "        vertical-align: middle;\n",
              "    }\n",
              "\n",
              "    .dataframe tbody tr th {\n",
              "        vertical-align: top;\n",
              "    }\n",
              "\n",
              "    .dataframe thead th {\n",
              "        text-align: right;\n",
              "    }\n",
              "</style>\n",
              "<table border=\"1\" class=\"dataframe\">\n",
              "  <thead>\n",
              "    <tr style=\"text-align: right;\">\n",
              "      <th></th>\n",
              "      <th>deaths</th>\n",
              "      <th>size</th>\n",
              "      <th>deserters</th>\n",
              "    </tr>\n",
              "    <tr>\n",
              "      <th>origin</th>\n",
              "      <th></th>\n",
              "      <th></th>\n",
              "      <th></th>\n",
              "    </tr>\n",
              "  </thead>\n",
              "  <tbody>\n",
              "    <tr>\n",
              "      <th>Maine</th>\n",
              "      <td>43</td>\n",
              "      <td>1592</td>\n",
              "      <td>3</td>\n",
              "    </tr>\n",
              "    <tr>\n",
              "      <th>Alaska</th>\n",
              "      <td>523</td>\n",
              "      <td>987</td>\n",
              "      <td>24</td>\n",
              "    </tr>\n",
              "  </tbody>\n",
              "</table>\n",
              "</div>"
            ],
            "text/plain": [
              "        deaths  size  deserters\n",
              "origin                         \n",
              "Maine       43  1592          3\n",
              "Alaska     523   987         24"
            ]
          },
          "metadata": {
            "tags": []
          },
          "execution_count": 15
        }
      ]
    },
    {
      "cell_type": "markdown",
      "metadata": {
        "id": "wcFwDCNuUMSF"
      },
      "source": [
        "### Step 9. Select the rows 3 to 7 and the columns 3 to 6"
      ]
    },
    {
      "cell_type": "code",
      "metadata": {
        "colab": {
          "base_uri": "https://localhost:8080/",
          "height": 233
        },
        "id": "mAJSO-0nUMSF",
        "outputId": "f8e57776-f97d-41a4-8a43-caab787bf035"
      },
      "source": [
        "army.iloc[2:7, 2:6]"
      ],
      "execution_count": 16,
      "outputs": [
        {
          "output_type": "execute_result",
          "data": {
            "text/html": [
              "<div>\n",
              "<style scoped>\n",
              "    .dataframe tbody tr th:only-of-type {\n",
              "        vertical-align: middle;\n",
              "    }\n",
              "\n",
              "    .dataframe tbody tr th {\n",
              "        vertical-align: top;\n",
              "    }\n",
              "\n",
              "    .dataframe thead th {\n",
              "        text-align: right;\n",
              "    }\n",
              "</style>\n",
              "<table border=\"1\" class=\"dataframe\">\n",
              "  <thead>\n",
              "    <tr style=\"text-align: right;\">\n",
              "      <th></th>\n",
              "      <th>deaths</th>\n",
              "      <th>battles</th>\n",
              "      <th>size</th>\n",
              "      <th>veterans</th>\n",
              "    </tr>\n",
              "    <tr>\n",
              "      <th>origin</th>\n",
              "      <th></th>\n",
              "      <th></th>\n",
              "      <th></th>\n",
              "      <th></th>\n",
              "    </tr>\n",
              "  </thead>\n",
              "  <tbody>\n",
              "    <tr>\n",
              "      <th>Texas</th>\n",
              "      <td>25</td>\n",
              "      <td>2</td>\n",
              "      <td>1099</td>\n",
              "      <td>62</td>\n",
              "    </tr>\n",
              "    <tr>\n",
              "      <th>Florida</th>\n",
              "      <td>616</td>\n",
              "      <td>2</td>\n",
              "      <td>1400</td>\n",
              "      <td>26</td>\n",
              "    </tr>\n",
              "    <tr>\n",
              "      <th>Maine</th>\n",
              "      <td>43</td>\n",
              "      <td>4</td>\n",
              "      <td>1592</td>\n",
              "      <td>73</td>\n",
              "    </tr>\n",
              "    <tr>\n",
              "      <th>Iowa</th>\n",
              "      <td>234</td>\n",
              "      <td>7</td>\n",
              "      <td>1006</td>\n",
              "      <td>37</td>\n",
              "    </tr>\n",
              "    <tr>\n",
              "      <th>Alaska</th>\n",
              "      <td>523</td>\n",
              "      <td>8</td>\n",
              "      <td>987</td>\n",
              "      <td>949</td>\n",
              "    </tr>\n",
              "  </tbody>\n",
              "</table>\n",
              "</div>"
            ],
            "text/plain": [
              "         deaths  battles  size  veterans\n",
              "origin                                  \n",
              "Texas        25        2  1099        62\n",
              "Florida     616        2  1400        26\n",
              "Maine        43        4  1592        73\n",
              "Iowa        234        7  1006        37\n",
              "Alaska      523        8   987       949"
            ]
          },
          "metadata": {
            "tags": []
          },
          "execution_count": 16
        }
      ]
    },
    {
      "cell_type": "markdown",
      "metadata": {
        "id": "Avld3bKAUMSF"
      },
      "source": [
        "### Step 10. Select every row after the fourth row and all columns"
      ]
    },
    {
      "cell_type": "code",
      "metadata": {
        "colab": {
          "base_uri": "https://localhost:8080/",
          "height": 325
        },
        "id": "wsgHMM2JUMSF",
        "outputId": "9ae74e81-ce7f-49e9-d77a-7faa7b7a1a8a"
      },
      "source": [
        "army.iloc[4:]"
      ],
      "execution_count": 17,
      "outputs": [
        {
          "output_type": "execute_result",
          "data": {
            "text/html": [
              "<div>\n",
              "<style scoped>\n",
              "    .dataframe tbody tr th:only-of-type {\n",
              "        vertical-align: middle;\n",
              "    }\n",
              "\n",
              "    .dataframe tbody tr th {\n",
              "        vertical-align: top;\n",
              "    }\n",
              "\n",
              "    .dataframe thead th {\n",
              "        text-align: right;\n",
              "    }\n",
              "</style>\n",
              "<table border=\"1\" class=\"dataframe\">\n",
              "  <thead>\n",
              "    <tr style=\"text-align: right;\">\n",
              "      <th></th>\n",
              "      <th>regiment</th>\n",
              "      <th>company</th>\n",
              "      <th>deaths</th>\n",
              "      <th>battles</th>\n",
              "      <th>size</th>\n",
              "      <th>veterans</th>\n",
              "      <th>readiness</th>\n",
              "      <th>armored</th>\n",
              "      <th>deserters</th>\n",
              "    </tr>\n",
              "    <tr>\n",
              "      <th>origin</th>\n",
              "      <th></th>\n",
              "      <th></th>\n",
              "      <th></th>\n",
              "      <th></th>\n",
              "      <th></th>\n",
              "      <th></th>\n",
              "      <th></th>\n",
              "      <th></th>\n",
              "      <th></th>\n",
              "    </tr>\n",
              "  </thead>\n",
              "  <tbody>\n",
              "    <tr>\n",
              "      <th>Maine</th>\n",
              "      <td>Dragoons</td>\n",
              "      <td>1st</td>\n",
              "      <td>43</td>\n",
              "      <td>4</td>\n",
              "      <td>1592</td>\n",
              "      <td>73</td>\n",
              "      <td>2</td>\n",
              "      <td>0</td>\n",
              "      <td>3</td>\n",
              "    </tr>\n",
              "    <tr>\n",
              "      <th>Iowa</th>\n",
              "      <td>Dragoons</td>\n",
              "      <td>1st</td>\n",
              "      <td>234</td>\n",
              "      <td>7</td>\n",
              "      <td>1006</td>\n",
              "      <td>37</td>\n",
              "      <td>1</td>\n",
              "      <td>1</td>\n",
              "      <td>4</td>\n",
              "    </tr>\n",
              "    <tr>\n",
              "      <th>Alaska</th>\n",
              "      <td>Dragoons</td>\n",
              "      <td>2nd</td>\n",
              "      <td>523</td>\n",
              "      <td>8</td>\n",
              "      <td>987</td>\n",
              "      <td>949</td>\n",
              "      <td>2</td>\n",
              "      <td>0</td>\n",
              "      <td>24</td>\n",
              "    </tr>\n",
              "    <tr>\n",
              "      <th>Washington</th>\n",
              "      <td>Dragoons</td>\n",
              "      <td>2nd</td>\n",
              "      <td>62</td>\n",
              "      <td>3</td>\n",
              "      <td>849</td>\n",
              "      <td>48</td>\n",
              "      <td>3</td>\n",
              "      <td>1</td>\n",
              "      <td>31</td>\n",
              "    </tr>\n",
              "    <tr>\n",
              "      <th>Oregon</th>\n",
              "      <td>Scouts</td>\n",
              "      <td>1st</td>\n",
              "      <td>62</td>\n",
              "      <td>4</td>\n",
              "      <td>973</td>\n",
              "      <td>48</td>\n",
              "      <td>2</td>\n",
              "      <td>0</td>\n",
              "      <td>2</td>\n",
              "    </tr>\n",
              "    <tr>\n",
              "      <th>Wyoming</th>\n",
              "      <td>Scouts</td>\n",
              "      <td>1st</td>\n",
              "      <td>73</td>\n",
              "      <td>7</td>\n",
              "      <td>1005</td>\n",
              "      <td>435</td>\n",
              "      <td>1</td>\n",
              "      <td>0</td>\n",
              "      <td>3</td>\n",
              "    </tr>\n",
              "    <tr>\n",
              "      <th>Louisana</th>\n",
              "      <td>Scouts</td>\n",
              "      <td>2nd</td>\n",
              "      <td>37</td>\n",
              "      <td>8</td>\n",
              "      <td>1099</td>\n",
              "      <td>63</td>\n",
              "      <td>2</td>\n",
              "      <td>1</td>\n",
              "      <td>2</td>\n",
              "    </tr>\n",
              "    <tr>\n",
              "      <th>Georgia</th>\n",
              "      <td>Scouts</td>\n",
              "      <td>2nd</td>\n",
              "      <td>35</td>\n",
              "      <td>9</td>\n",
              "      <td>1523</td>\n",
              "      <td>345</td>\n",
              "      <td>3</td>\n",
              "      <td>1</td>\n",
              "      <td>3</td>\n",
              "    </tr>\n",
              "  </tbody>\n",
              "</table>\n",
              "</div>"
            ],
            "text/plain": [
              "            regiment company  deaths  ...  readiness  armored  deserters\n",
              "origin                                ...                               \n",
              "Maine       Dragoons     1st      43  ...          2        0          3\n",
              "Iowa        Dragoons     1st     234  ...          1        1          4\n",
              "Alaska      Dragoons     2nd     523  ...          2        0         24\n",
              "Washington  Dragoons     2nd      62  ...          3        1         31\n",
              "Oregon        Scouts     1st      62  ...          2        0          2\n",
              "Wyoming       Scouts     1st      73  ...          1        0          3\n",
              "Louisana      Scouts     2nd      37  ...          2        1          2\n",
              "Georgia       Scouts     2nd      35  ...          3        1          3\n",
              "\n",
              "[8 rows x 9 columns]"
            ]
          },
          "metadata": {
            "tags": []
          },
          "execution_count": 17
        }
      ]
    },
    {
      "cell_type": "markdown",
      "metadata": {
        "id": "kuIWqpXqUMSG"
      },
      "source": [
        "### Step 11. Select every row up to the 4th row and all columns"
      ]
    },
    {
      "cell_type": "code",
      "metadata": {
        "colab": {
          "base_uri": "https://localhost:8080/",
          "height": 202
        },
        "id": "SekuVmpTUMSG",
        "outputId": "48e742e0-8f68-4b1f-f065-2da8696cece1"
      },
      "source": [
        "army.iloc[:4]"
      ],
      "execution_count": 18,
      "outputs": [
        {
          "output_type": "execute_result",
          "data": {
            "text/html": [
              "<div>\n",
              "<style scoped>\n",
              "    .dataframe tbody tr th:only-of-type {\n",
              "        vertical-align: middle;\n",
              "    }\n",
              "\n",
              "    .dataframe tbody tr th {\n",
              "        vertical-align: top;\n",
              "    }\n",
              "\n",
              "    .dataframe thead th {\n",
              "        text-align: right;\n",
              "    }\n",
              "</style>\n",
              "<table border=\"1\" class=\"dataframe\">\n",
              "  <thead>\n",
              "    <tr style=\"text-align: right;\">\n",
              "      <th></th>\n",
              "      <th>regiment</th>\n",
              "      <th>company</th>\n",
              "      <th>deaths</th>\n",
              "      <th>battles</th>\n",
              "      <th>size</th>\n",
              "      <th>veterans</th>\n",
              "      <th>readiness</th>\n",
              "      <th>armored</th>\n",
              "      <th>deserters</th>\n",
              "    </tr>\n",
              "    <tr>\n",
              "      <th>origin</th>\n",
              "      <th></th>\n",
              "      <th></th>\n",
              "      <th></th>\n",
              "      <th></th>\n",
              "      <th></th>\n",
              "      <th></th>\n",
              "      <th></th>\n",
              "      <th></th>\n",
              "      <th></th>\n",
              "    </tr>\n",
              "  </thead>\n",
              "  <tbody>\n",
              "    <tr>\n",
              "      <th>Arizona</th>\n",
              "      <td>Nighthawks</td>\n",
              "      <td>1st</td>\n",
              "      <td>523</td>\n",
              "      <td>5</td>\n",
              "      <td>1045</td>\n",
              "      <td>1</td>\n",
              "      <td>1</td>\n",
              "      <td>1</td>\n",
              "      <td>4</td>\n",
              "    </tr>\n",
              "    <tr>\n",
              "      <th>California</th>\n",
              "      <td>Nighthawks</td>\n",
              "      <td>1st</td>\n",
              "      <td>52</td>\n",
              "      <td>42</td>\n",
              "      <td>957</td>\n",
              "      <td>5</td>\n",
              "      <td>2</td>\n",
              "      <td>0</td>\n",
              "      <td>24</td>\n",
              "    </tr>\n",
              "    <tr>\n",
              "      <th>Texas</th>\n",
              "      <td>Nighthawks</td>\n",
              "      <td>2nd</td>\n",
              "      <td>25</td>\n",
              "      <td>2</td>\n",
              "      <td>1099</td>\n",
              "      <td>62</td>\n",
              "      <td>3</td>\n",
              "      <td>1</td>\n",
              "      <td>31</td>\n",
              "    </tr>\n",
              "    <tr>\n",
              "      <th>Florida</th>\n",
              "      <td>Nighthawks</td>\n",
              "      <td>2nd</td>\n",
              "      <td>616</td>\n",
              "      <td>2</td>\n",
              "      <td>1400</td>\n",
              "      <td>26</td>\n",
              "      <td>3</td>\n",
              "      <td>1</td>\n",
              "      <td>2</td>\n",
              "    </tr>\n",
              "  </tbody>\n",
              "</table>\n",
              "</div>"
            ],
            "text/plain": [
              "              regiment company  deaths  ...  readiness  armored  deserters\n",
              "origin                                  ...                               \n",
              "Arizona     Nighthawks     1st     523  ...          1        1          4\n",
              "California  Nighthawks     1st      52  ...          2        0         24\n",
              "Texas       Nighthawks     2nd      25  ...          3        1         31\n",
              "Florida     Nighthawks     2nd     616  ...          3        1          2\n",
              "\n",
              "[4 rows x 9 columns]"
            ]
          },
          "metadata": {
            "tags": []
          },
          "execution_count": 18
        }
      ]
    },
    {
      "cell_type": "markdown",
      "metadata": {
        "id": "6G3BtSblUMSG"
      },
      "source": [
        "### Step 12. Select the 3rd column up to the 7th column"
      ]
    },
    {
      "cell_type": "code",
      "metadata": {
        "colab": {
          "base_uri": "https://localhost:8080/",
          "height": 447
        },
        "id": "CBqUzdbNUMSG",
        "outputId": "c940a5b8-deeb-4013-febf-f911f521be15"
      },
      "source": [
        "army.iloc[:, 2:7]"
      ],
      "execution_count": 19,
      "outputs": [
        {
          "output_type": "execute_result",
          "data": {
            "text/html": [
              "<div>\n",
              "<style scoped>\n",
              "    .dataframe tbody tr th:only-of-type {\n",
              "        vertical-align: middle;\n",
              "    }\n",
              "\n",
              "    .dataframe tbody tr th {\n",
              "        vertical-align: top;\n",
              "    }\n",
              "\n",
              "    .dataframe thead th {\n",
              "        text-align: right;\n",
              "    }\n",
              "</style>\n",
              "<table border=\"1\" class=\"dataframe\">\n",
              "  <thead>\n",
              "    <tr style=\"text-align: right;\">\n",
              "      <th></th>\n",
              "      <th>deaths</th>\n",
              "      <th>battles</th>\n",
              "      <th>size</th>\n",
              "      <th>veterans</th>\n",
              "      <th>readiness</th>\n",
              "    </tr>\n",
              "    <tr>\n",
              "      <th>origin</th>\n",
              "      <th></th>\n",
              "      <th></th>\n",
              "      <th></th>\n",
              "      <th></th>\n",
              "      <th></th>\n",
              "    </tr>\n",
              "  </thead>\n",
              "  <tbody>\n",
              "    <tr>\n",
              "      <th>Arizona</th>\n",
              "      <td>523</td>\n",
              "      <td>5</td>\n",
              "      <td>1045</td>\n",
              "      <td>1</td>\n",
              "      <td>1</td>\n",
              "    </tr>\n",
              "    <tr>\n",
              "      <th>California</th>\n",
              "      <td>52</td>\n",
              "      <td>42</td>\n",
              "      <td>957</td>\n",
              "      <td>5</td>\n",
              "      <td>2</td>\n",
              "    </tr>\n",
              "    <tr>\n",
              "      <th>Texas</th>\n",
              "      <td>25</td>\n",
              "      <td>2</td>\n",
              "      <td>1099</td>\n",
              "      <td>62</td>\n",
              "      <td>3</td>\n",
              "    </tr>\n",
              "    <tr>\n",
              "      <th>Florida</th>\n",
              "      <td>616</td>\n",
              "      <td>2</td>\n",
              "      <td>1400</td>\n",
              "      <td>26</td>\n",
              "      <td>3</td>\n",
              "    </tr>\n",
              "    <tr>\n",
              "      <th>Maine</th>\n",
              "      <td>43</td>\n",
              "      <td>4</td>\n",
              "      <td>1592</td>\n",
              "      <td>73</td>\n",
              "      <td>2</td>\n",
              "    </tr>\n",
              "    <tr>\n",
              "      <th>Iowa</th>\n",
              "      <td>234</td>\n",
              "      <td>7</td>\n",
              "      <td>1006</td>\n",
              "      <td>37</td>\n",
              "      <td>1</td>\n",
              "    </tr>\n",
              "    <tr>\n",
              "      <th>Alaska</th>\n",
              "      <td>523</td>\n",
              "      <td>8</td>\n",
              "      <td>987</td>\n",
              "      <td>949</td>\n",
              "      <td>2</td>\n",
              "    </tr>\n",
              "    <tr>\n",
              "      <th>Washington</th>\n",
              "      <td>62</td>\n",
              "      <td>3</td>\n",
              "      <td>849</td>\n",
              "      <td>48</td>\n",
              "      <td>3</td>\n",
              "    </tr>\n",
              "    <tr>\n",
              "      <th>Oregon</th>\n",
              "      <td>62</td>\n",
              "      <td>4</td>\n",
              "      <td>973</td>\n",
              "      <td>48</td>\n",
              "      <td>2</td>\n",
              "    </tr>\n",
              "    <tr>\n",
              "      <th>Wyoming</th>\n",
              "      <td>73</td>\n",
              "      <td>7</td>\n",
              "      <td>1005</td>\n",
              "      <td>435</td>\n",
              "      <td>1</td>\n",
              "    </tr>\n",
              "    <tr>\n",
              "      <th>Louisana</th>\n",
              "      <td>37</td>\n",
              "      <td>8</td>\n",
              "      <td>1099</td>\n",
              "      <td>63</td>\n",
              "      <td>2</td>\n",
              "    </tr>\n",
              "    <tr>\n",
              "      <th>Georgia</th>\n",
              "      <td>35</td>\n",
              "      <td>9</td>\n",
              "      <td>1523</td>\n",
              "      <td>345</td>\n",
              "      <td>3</td>\n",
              "    </tr>\n",
              "  </tbody>\n",
              "</table>\n",
              "</div>"
            ],
            "text/plain": [
              "            deaths  battles  size  veterans  readiness\n",
              "origin                                                \n",
              "Arizona        523        5  1045         1          1\n",
              "California      52       42   957         5          2\n",
              "Texas           25        2  1099        62          3\n",
              "Florida        616        2  1400        26          3\n",
              "Maine           43        4  1592        73          2\n",
              "Iowa           234        7  1006        37          1\n",
              "Alaska         523        8   987       949          2\n",
              "Washington      62        3   849        48          3\n",
              "Oregon          62        4   973        48          2\n",
              "Wyoming         73        7  1005       435          1\n",
              "Louisana        37        8  1099        63          2\n",
              "Georgia         35        9  1523       345          3"
            ]
          },
          "metadata": {
            "tags": []
          },
          "execution_count": 19
        }
      ]
    },
    {
      "cell_type": "markdown",
      "metadata": {
        "id": "dv50FiTgUMSH"
      },
      "source": [
        "### Step 13. Select rows where df.deaths is greater than 50"
      ]
    },
    {
      "cell_type": "code",
      "metadata": {
        "colab": {
          "base_uri": "https://localhost:8080/",
          "height": 325
        },
        "id": "L2F64TaXUMSH",
        "outputId": "4f921faf-68b0-4290-9aae-322b9854cac3"
      },
      "source": [
        "army[army[\"deaths\"] > 50]"
      ],
      "execution_count": 20,
      "outputs": [
        {
          "output_type": "execute_result",
          "data": {
            "text/html": [
              "<div>\n",
              "<style scoped>\n",
              "    .dataframe tbody tr th:only-of-type {\n",
              "        vertical-align: middle;\n",
              "    }\n",
              "\n",
              "    .dataframe tbody tr th {\n",
              "        vertical-align: top;\n",
              "    }\n",
              "\n",
              "    .dataframe thead th {\n",
              "        text-align: right;\n",
              "    }\n",
              "</style>\n",
              "<table border=\"1\" class=\"dataframe\">\n",
              "  <thead>\n",
              "    <tr style=\"text-align: right;\">\n",
              "      <th></th>\n",
              "      <th>regiment</th>\n",
              "      <th>company</th>\n",
              "      <th>deaths</th>\n",
              "      <th>battles</th>\n",
              "      <th>size</th>\n",
              "      <th>veterans</th>\n",
              "      <th>readiness</th>\n",
              "      <th>armored</th>\n",
              "      <th>deserters</th>\n",
              "    </tr>\n",
              "    <tr>\n",
              "      <th>origin</th>\n",
              "      <th></th>\n",
              "      <th></th>\n",
              "      <th></th>\n",
              "      <th></th>\n",
              "      <th></th>\n",
              "      <th></th>\n",
              "      <th></th>\n",
              "      <th></th>\n",
              "      <th></th>\n",
              "    </tr>\n",
              "  </thead>\n",
              "  <tbody>\n",
              "    <tr>\n",
              "      <th>Arizona</th>\n",
              "      <td>Nighthawks</td>\n",
              "      <td>1st</td>\n",
              "      <td>523</td>\n",
              "      <td>5</td>\n",
              "      <td>1045</td>\n",
              "      <td>1</td>\n",
              "      <td>1</td>\n",
              "      <td>1</td>\n",
              "      <td>4</td>\n",
              "    </tr>\n",
              "    <tr>\n",
              "      <th>California</th>\n",
              "      <td>Nighthawks</td>\n",
              "      <td>1st</td>\n",
              "      <td>52</td>\n",
              "      <td>42</td>\n",
              "      <td>957</td>\n",
              "      <td>5</td>\n",
              "      <td>2</td>\n",
              "      <td>0</td>\n",
              "      <td>24</td>\n",
              "    </tr>\n",
              "    <tr>\n",
              "      <th>Florida</th>\n",
              "      <td>Nighthawks</td>\n",
              "      <td>2nd</td>\n",
              "      <td>616</td>\n",
              "      <td>2</td>\n",
              "      <td>1400</td>\n",
              "      <td>26</td>\n",
              "      <td>3</td>\n",
              "      <td>1</td>\n",
              "      <td>2</td>\n",
              "    </tr>\n",
              "    <tr>\n",
              "      <th>Iowa</th>\n",
              "      <td>Dragoons</td>\n",
              "      <td>1st</td>\n",
              "      <td>234</td>\n",
              "      <td>7</td>\n",
              "      <td>1006</td>\n",
              "      <td>37</td>\n",
              "      <td>1</td>\n",
              "      <td>1</td>\n",
              "      <td>4</td>\n",
              "    </tr>\n",
              "    <tr>\n",
              "      <th>Alaska</th>\n",
              "      <td>Dragoons</td>\n",
              "      <td>2nd</td>\n",
              "      <td>523</td>\n",
              "      <td>8</td>\n",
              "      <td>987</td>\n",
              "      <td>949</td>\n",
              "      <td>2</td>\n",
              "      <td>0</td>\n",
              "      <td>24</td>\n",
              "    </tr>\n",
              "    <tr>\n",
              "      <th>Washington</th>\n",
              "      <td>Dragoons</td>\n",
              "      <td>2nd</td>\n",
              "      <td>62</td>\n",
              "      <td>3</td>\n",
              "      <td>849</td>\n",
              "      <td>48</td>\n",
              "      <td>3</td>\n",
              "      <td>1</td>\n",
              "      <td>31</td>\n",
              "    </tr>\n",
              "    <tr>\n",
              "      <th>Oregon</th>\n",
              "      <td>Scouts</td>\n",
              "      <td>1st</td>\n",
              "      <td>62</td>\n",
              "      <td>4</td>\n",
              "      <td>973</td>\n",
              "      <td>48</td>\n",
              "      <td>2</td>\n",
              "      <td>0</td>\n",
              "      <td>2</td>\n",
              "    </tr>\n",
              "    <tr>\n",
              "      <th>Wyoming</th>\n",
              "      <td>Scouts</td>\n",
              "      <td>1st</td>\n",
              "      <td>73</td>\n",
              "      <td>7</td>\n",
              "      <td>1005</td>\n",
              "      <td>435</td>\n",
              "      <td>1</td>\n",
              "      <td>0</td>\n",
              "      <td>3</td>\n",
              "    </tr>\n",
              "  </tbody>\n",
              "</table>\n",
              "</div>"
            ],
            "text/plain": [
              "              regiment company  deaths  ...  readiness  armored  deserters\n",
              "origin                                  ...                               \n",
              "Arizona     Nighthawks     1st     523  ...          1        1          4\n",
              "California  Nighthawks     1st      52  ...          2        0         24\n",
              "Florida     Nighthawks     2nd     616  ...          3        1          2\n",
              "Iowa          Dragoons     1st     234  ...          1        1          4\n",
              "Alaska        Dragoons     2nd     523  ...          2        0         24\n",
              "Washington    Dragoons     2nd      62  ...          3        1         31\n",
              "Oregon          Scouts     1st      62  ...          2        0          2\n",
              "Wyoming         Scouts     1st      73  ...          1        0          3\n",
              "\n",
              "[8 rows x 9 columns]"
            ]
          },
          "metadata": {
            "tags": []
          },
          "execution_count": 20
        }
      ]
    },
    {
      "cell_type": "markdown",
      "metadata": {
        "id": "cvO0D0F2UMSH"
      },
      "source": [
        "### Step 14. Select rows where df.deaths is greater than 500 or less than 50"
      ]
    },
    {
      "cell_type": "code",
      "metadata": {
        "colab": {
          "base_uri": "https://localhost:8080/",
          "height": 294
        },
        "id": "1ru0Ae9gUMSH",
        "outputId": "1b219331-5150-4460-9fbc-5aebead9d400"
      },
      "source": [
        "army[(army[\"deaths\"] > 500) | (army[\"deaths\"] < 50)]"
      ],
      "execution_count": 21,
      "outputs": [
        {
          "output_type": "execute_result",
          "data": {
            "text/html": [
              "<div>\n",
              "<style scoped>\n",
              "    .dataframe tbody tr th:only-of-type {\n",
              "        vertical-align: middle;\n",
              "    }\n",
              "\n",
              "    .dataframe tbody tr th {\n",
              "        vertical-align: top;\n",
              "    }\n",
              "\n",
              "    .dataframe thead th {\n",
              "        text-align: right;\n",
              "    }\n",
              "</style>\n",
              "<table border=\"1\" class=\"dataframe\">\n",
              "  <thead>\n",
              "    <tr style=\"text-align: right;\">\n",
              "      <th></th>\n",
              "      <th>regiment</th>\n",
              "      <th>company</th>\n",
              "      <th>deaths</th>\n",
              "      <th>battles</th>\n",
              "      <th>size</th>\n",
              "      <th>veterans</th>\n",
              "      <th>readiness</th>\n",
              "      <th>armored</th>\n",
              "      <th>deserters</th>\n",
              "    </tr>\n",
              "    <tr>\n",
              "      <th>origin</th>\n",
              "      <th></th>\n",
              "      <th></th>\n",
              "      <th></th>\n",
              "      <th></th>\n",
              "      <th></th>\n",
              "      <th></th>\n",
              "      <th></th>\n",
              "      <th></th>\n",
              "      <th></th>\n",
              "    </tr>\n",
              "  </thead>\n",
              "  <tbody>\n",
              "    <tr>\n",
              "      <th>Arizona</th>\n",
              "      <td>Nighthawks</td>\n",
              "      <td>1st</td>\n",
              "      <td>523</td>\n",
              "      <td>5</td>\n",
              "      <td>1045</td>\n",
              "      <td>1</td>\n",
              "      <td>1</td>\n",
              "      <td>1</td>\n",
              "      <td>4</td>\n",
              "    </tr>\n",
              "    <tr>\n",
              "      <th>Texas</th>\n",
              "      <td>Nighthawks</td>\n",
              "      <td>2nd</td>\n",
              "      <td>25</td>\n",
              "      <td>2</td>\n",
              "      <td>1099</td>\n",
              "      <td>62</td>\n",
              "      <td>3</td>\n",
              "      <td>1</td>\n",
              "      <td>31</td>\n",
              "    </tr>\n",
              "    <tr>\n",
              "      <th>Florida</th>\n",
              "      <td>Nighthawks</td>\n",
              "      <td>2nd</td>\n",
              "      <td>616</td>\n",
              "      <td>2</td>\n",
              "      <td>1400</td>\n",
              "      <td>26</td>\n",
              "      <td>3</td>\n",
              "      <td>1</td>\n",
              "      <td>2</td>\n",
              "    </tr>\n",
              "    <tr>\n",
              "      <th>Maine</th>\n",
              "      <td>Dragoons</td>\n",
              "      <td>1st</td>\n",
              "      <td>43</td>\n",
              "      <td>4</td>\n",
              "      <td>1592</td>\n",
              "      <td>73</td>\n",
              "      <td>2</td>\n",
              "      <td>0</td>\n",
              "      <td>3</td>\n",
              "    </tr>\n",
              "    <tr>\n",
              "      <th>Alaska</th>\n",
              "      <td>Dragoons</td>\n",
              "      <td>2nd</td>\n",
              "      <td>523</td>\n",
              "      <td>8</td>\n",
              "      <td>987</td>\n",
              "      <td>949</td>\n",
              "      <td>2</td>\n",
              "      <td>0</td>\n",
              "      <td>24</td>\n",
              "    </tr>\n",
              "    <tr>\n",
              "      <th>Louisana</th>\n",
              "      <td>Scouts</td>\n",
              "      <td>2nd</td>\n",
              "      <td>37</td>\n",
              "      <td>8</td>\n",
              "      <td>1099</td>\n",
              "      <td>63</td>\n",
              "      <td>2</td>\n",
              "      <td>1</td>\n",
              "      <td>2</td>\n",
              "    </tr>\n",
              "    <tr>\n",
              "      <th>Georgia</th>\n",
              "      <td>Scouts</td>\n",
              "      <td>2nd</td>\n",
              "      <td>35</td>\n",
              "      <td>9</td>\n",
              "      <td>1523</td>\n",
              "      <td>345</td>\n",
              "      <td>3</td>\n",
              "      <td>1</td>\n",
              "      <td>3</td>\n",
              "    </tr>\n",
              "  </tbody>\n",
              "</table>\n",
              "</div>"
            ],
            "text/plain": [
              "            regiment company  deaths  ...  readiness  armored  deserters\n",
              "origin                                ...                               \n",
              "Arizona   Nighthawks     1st     523  ...          1        1          4\n",
              "Texas     Nighthawks     2nd      25  ...          3        1         31\n",
              "Florida   Nighthawks     2nd     616  ...          3        1          2\n",
              "Maine       Dragoons     1st      43  ...          2        0          3\n",
              "Alaska      Dragoons     2nd     523  ...          2        0         24\n",
              "Louisana      Scouts     2nd      37  ...          2        1          2\n",
              "Georgia       Scouts     2nd      35  ...          3        1          3\n",
              "\n",
              "[7 rows x 9 columns]"
            ]
          },
          "metadata": {
            "tags": []
          },
          "execution_count": 21
        }
      ]
    },
    {
      "cell_type": "markdown",
      "metadata": {
        "id": "pqqwed9kUMSH"
      },
      "source": [
        "### Step 15. Select all the regiments not named \"Dragoons\""
      ]
    },
    {
      "cell_type": "code",
      "metadata": {
        "colab": {
          "base_uri": "https://localhost:8080/",
          "height": 325
        },
        "id": "shtwE5HhUMSI",
        "outputId": "300cacdf-9430-45d4-9793-62645af83ffb"
      },
      "source": [
        "army[army[\"regiment\"] != \"Dragoons\"]"
      ],
      "execution_count": 22,
      "outputs": [
        {
          "output_type": "execute_result",
          "data": {
            "text/html": [
              "<div>\n",
              "<style scoped>\n",
              "    .dataframe tbody tr th:only-of-type {\n",
              "        vertical-align: middle;\n",
              "    }\n",
              "\n",
              "    .dataframe tbody tr th {\n",
              "        vertical-align: top;\n",
              "    }\n",
              "\n",
              "    .dataframe thead th {\n",
              "        text-align: right;\n",
              "    }\n",
              "</style>\n",
              "<table border=\"1\" class=\"dataframe\">\n",
              "  <thead>\n",
              "    <tr style=\"text-align: right;\">\n",
              "      <th></th>\n",
              "      <th>regiment</th>\n",
              "      <th>company</th>\n",
              "      <th>deaths</th>\n",
              "      <th>battles</th>\n",
              "      <th>size</th>\n",
              "      <th>veterans</th>\n",
              "      <th>readiness</th>\n",
              "      <th>armored</th>\n",
              "      <th>deserters</th>\n",
              "    </tr>\n",
              "    <tr>\n",
              "      <th>origin</th>\n",
              "      <th></th>\n",
              "      <th></th>\n",
              "      <th></th>\n",
              "      <th></th>\n",
              "      <th></th>\n",
              "      <th></th>\n",
              "      <th></th>\n",
              "      <th></th>\n",
              "      <th></th>\n",
              "    </tr>\n",
              "  </thead>\n",
              "  <tbody>\n",
              "    <tr>\n",
              "      <th>Arizona</th>\n",
              "      <td>Nighthawks</td>\n",
              "      <td>1st</td>\n",
              "      <td>523</td>\n",
              "      <td>5</td>\n",
              "      <td>1045</td>\n",
              "      <td>1</td>\n",
              "      <td>1</td>\n",
              "      <td>1</td>\n",
              "      <td>4</td>\n",
              "    </tr>\n",
              "    <tr>\n",
              "      <th>California</th>\n",
              "      <td>Nighthawks</td>\n",
              "      <td>1st</td>\n",
              "      <td>52</td>\n",
              "      <td>42</td>\n",
              "      <td>957</td>\n",
              "      <td>5</td>\n",
              "      <td>2</td>\n",
              "      <td>0</td>\n",
              "      <td>24</td>\n",
              "    </tr>\n",
              "    <tr>\n",
              "      <th>Texas</th>\n",
              "      <td>Nighthawks</td>\n",
              "      <td>2nd</td>\n",
              "      <td>25</td>\n",
              "      <td>2</td>\n",
              "      <td>1099</td>\n",
              "      <td>62</td>\n",
              "      <td>3</td>\n",
              "      <td>1</td>\n",
              "      <td>31</td>\n",
              "    </tr>\n",
              "    <tr>\n",
              "      <th>Florida</th>\n",
              "      <td>Nighthawks</td>\n",
              "      <td>2nd</td>\n",
              "      <td>616</td>\n",
              "      <td>2</td>\n",
              "      <td>1400</td>\n",
              "      <td>26</td>\n",
              "      <td>3</td>\n",
              "      <td>1</td>\n",
              "      <td>2</td>\n",
              "    </tr>\n",
              "    <tr>\n",
              "      <th>Oregon</th>\n",
              "      <td>Scouts</td>\n",
              "      <td>1st</td>\n",
              "      <td>62</td>\n",
              "      <td>4</td>\n",
              "      <td>973</td>\n",
              "      <td>48</td>\n",
              "      <td>2</td>\n",
              "      <td>0</td>\n",
              "      <td>2</td>\n",
              "    </tr>\n",
              "    <tr>\n",
              "      <th>Wyoming</th>\n",
              "      <td>Scouts</td>\n",
              "      <td>1st</td>\n",
              "      <td>73</td>\n",
              "      <td>7</td>\n",
              "      <td>1005</td>\n",
              "      <td>435</td>\n",
              "      <td>1</td>\n",
              "      <td>0</td>\n",
              "      <td>3</td>\n",
              "    </tr>\n",
              "    <tr>\n",
              "      <th>Louisana</th>\n",
              "      <td>Scouts</td>\n",
              "      <td>2nd</td>\n",
              "      <td>37</td>\n",
              "      <td>8</td>\n",
              "      <td>1099</td>\n",
              "      <td>63</td>\n",
              "      <td>2</td>\n",
              "      <td>1</td>\n",
              "      <td>2</td>\n",
              "    </tr>\n",
              "    <tr>\n",
              "      <th>Georgia</th>\n",
              "      <td>Scouts</td>\n",
              "      <td>2nd</td>\n",
              "      <td>35</td>\n",
              "      <td>9</td>\n",
              "      <td>1523</td>\n",
              "      <td>345</td>\n",
              "      <td>3</td>\n",
              "      <td>1</td>\n",
              "      <td>3</td>\n",
              "    </tr>\n",
              "  </tbody>\n",
              "</table>\n",
              "</div>"
            ],
            "text/plain": [
              "              regiment company  deaths  ...  readiness  armored  deserters\n",
              "origin                                  ...                               \n",
              "Arizona     Nighthawks     1st     523  ...          1        1          4\n",
              "California  Nighthawks     1st      52  ...          2        0         24\n",
              "Texas       Nighthawks     2nd      25  ...          3        1         31\n",
              "Florida     Nighthawks     2nd     616  ...          3        1          2\n",
              "Oregon          Scouts     1st      62  ...          2        0          2\n",
              "Wyoming         Scouts     1st      73  ...          1        0          3\n",
              "Louisana        Scouts     2nd      37  ...          2        1          2\n",
              "Georgia         Scouts     2nd      35  ...          3        1          3\n",
              "\n",
              "[8 rows x 9 columns]"
            ]
          },
          "metadata": {
            "tags": []
          },
          "execution_count": 22
        }
      ]
    },
    {
      "cell_type": "markdown",
      "metadata": {
        "id": "Epj5tO_NUMSI"
      },
      "source": [
        "### Step 16. Select the rows called Texas and Arizona"
      ]
    },
    {
      "cell_type": "code",
      "metadata": {
        "colab": {
          "base_uri": "https://localhost:8080/",
          "height": 141
        },
        "id": "h0ijvw-HUMSI",
        "outputId": "8a83240c-1ac1-4f09-b1c3-823fc786a318"
      },
      "source": [
        "army.loc[[\"Texas\", \"Arizona\"]]"
      ],
      "execution_count": 23,
      "outputs": [
        {
          "output_type": "execute_result",
          "data": {
            "text/html": [
              "<div>\n",
              "<style scoped>\n",
              "    .dataframe tbody tr th:only-of-type {\n",
              "        vertical-align: middle;\n",
              "    }\n",
              "\n",
              "    .dataframe tbody tr th {\n",
              "        vertical-align: top;\n",
              "    }\n",
              "\n",
              "    .dataframe thead th {\n",
              "        text-align: right;\n",
              "    }\n",
              "</style>\n",
              "<table border=\"1\" class=\"dataframe\">\n",
              "  <thead>\n",
              "    <tr style=\"text-align: right;\">\n",
              "      <th></th>\n",
              "      <th>regiment</th>\n",
              "      <th>company</th>\n",
              "      <th>deaths</th>\n",
              "      <th>battles</th>\n",
              "      <th>size</th>\n",
              "      <th>veterans</th>\n",
              "      <th>readiness</th>\n",
              "      <th>armored</th>\n",
              "      <th>deserters</th>\n",
              "    </tr>\n",
              "    <tr>\n",
              "      <th>origin</th>\n",
              "      <th></th>\n",
              "      <th></th>\n",
              "      <th></th>\n",
              "      <th></th>\n",
              "      <th></th>\n",
              "      <th></th>\n",
              "      <th></th>\n",
              "      <th></th>\n",
              "      <th></th>\n",
              "    </tr>\n",
              "  </thead>\n",
              "  <tbody>\n",
              "    <tr>\n",
              "      <th>Texas</th>\n",
              "      <td>Nighthawks</td>\n",
              "      <td>2nd</td>\n",
              "      <td>25</td>\n",
              "      <td>2</td>\n",
              "      <td>1099</td>\n",
              "      <td>62</td>\n",
              "      <td>3</td>\n",
              "      <td>1</td>\n",
              "      <td>31</td>\n",
              "    </tr>\n",
              "    <tr>\n",
              "      <th>Arizona</th>\n",
              "      <td>Nighthawks</td>\n",
              "      <td>1st</td>\n",
              "      <td>523</td>\n",
              "      <td>5</td>\n",
              "      <td>1045</td>\n",
              "      <td>1</td>\n",
              "      <td>1</td>\n",
              "      <td>1</td>\n",
              "      <td>4</td>\n",
              "    </tr>\n",
              "  </tbody>\n",
              "</table>\n",
              "</div>"
            ],
            "text/plain": [
              "           regiment company  deaths  ...  readiness  armored  deserters\n",
              "origin                               ...                               \n",
              "Texas    Nighthawks     2nd      25  ...          3        1         31\n",
              "Arizona  Nighthawks     1st     523  ...          1        1          4\n",
              "\n",
              "[2 rows x 9 columns]"
            ]
          },
          "metadata": {
            "tags": []
          },
          "execution_count": 23
        }
      ]
    },
    {
      "cell_type": "markdown",
      "metadata": {
        "id": "uLr58a_YUMSI"
      },
      "source": [
        "### Step 17. Select the third cell in the row named Arizona"
      ]
    },
    {
      "cell_type": "code",
      "metadata": {
        "colab": {
          "base_uri": "https://localhost:8080/"
        },
        "id": "FJpJFvxpUMSI",
        "outputId": "378268ec-32e9-47ac-9912-e9e36453b14a"
      },
      "source": [
        "army.loc[[\"Arizona\"]].iloc[:, 2]\r\n",
        "# army.loc[\"Arizona\"] returns a series"
      ],
      "execution_count": 27,
      "outputs": [
        {
          "output_type": "execute_result",
          "data": {
            "text/plain": [
              "origin\n",
              "Arizona    523\n",
              "Name: deaths, dtype: int64"
            ]
          },
          "metadata": {
            "tags": []
          },
          "execution_count": 27
        }
      ]
    },
    {
      "cell_type": "markdown",
      "metadata": {
        "id": "6G0q3tAoUMSI"
      },
      "source": [
        "### Step 18. Select the third cell down in the column named deaths"
      ]
    },
    {
      "cell_type": "code",
      "metadata": {
        "colab": {
          "base_uri": "https://localhost:8080/"
        },
        "id": "vPgdnHv_UMSJ",
        "outputId": "9dedf028-cf7f-4344-c652-30c0a8f9b4ce"
      },
      "source": [
        "army.loc[:, [\"deaths\"]].iloc[2]"
      ],
      "execution_count": 28,
      "outputs": [
        {
          "output_type": "execute_result",
          "data": {
            "text/plain": [
              "deaths    25\n",
              "Name: Texas, dtype: int64"
            ]
          },
          "metadata": {
            "tags": []
          },
          "execution_count": 28
        }
      ]
    },
    {
      "cell_type": "code",
      "metadata": {
        "id": "XgfJV_ieXOUn"
      },
      "source": [
        ""
      ],
      "execution_count": null,
      "outputs": []
    }
  ]
}